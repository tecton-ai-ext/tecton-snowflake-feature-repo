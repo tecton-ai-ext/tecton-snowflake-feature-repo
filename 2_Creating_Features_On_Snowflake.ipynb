{
 "cells": [
  {
   "cell_type": "markdown",
   "metadata": {},
   "source": [
    "# 2. Building Features with Tecton and Snowflake\n",
    "\n",
    "In this tutorial we'll cover how you can use Tecton and Snowflake to build features for machine learning.  We'll cover:\n",
    "* How to register features with Tecton\n",
    "* How features are written in Tecton\n",
    "* How to use Tecton Aggregations to do easy window aggregations"
   ]
  },
  {
   "cell_type": "markdown",
   "metadata": {},
   "source": [
    "### ❓ Before we start -- Tecton Workspaces\n",
    "\n",
    "[Workspaces](https://docs.tecton.ai/overviews/workspaces.html) are like a sandbox environment that can be used for experimenting with a Feature Repo without affecting the production environment. Changes made in one workspace will have no affect on other Workspaces.\n",
    "\n",
    "By default, new \"development\" workspaces do not have access to materialization and storage resources. Instead, transformations can be ran ad-hoc in your Snowflake Warehouse.\n",
    "\n",
    "This ad-hoc computation functionality can be used in any workspace and allows you to easily test features without needing to backfill and materialize data to the Feature Store.\n",
    "\n",
    "New workspaces with full materialization and storage resources can be created with the addition of the _--live_ flag during create time in the below CLI command. This can be useful for creating staging environments for testing features online before pushing changes to prod, or for creating isolation between different teams.\n",
    "\n",
    "**In this tutorial, we'll create a new workspace to ensure our changes don't effect other's workloads**"
   ]
  },
  {
   "cell_type": "markdown",
   "metadata": {},
   "source": [
    "### ✅ Create your own Tecton Workspace\n",
    "\n",
    "Workspaces are created using the Tecton CLI. Let's make one now:\n",
    "\n",
    "Create a workspace by running `tecton workspace create YOUR_NAME`.\n",
    "\n",
    "```\n",
    "$ tecton workspace create YOUR_NAME\n",
    "Created workspace \"YOUR_NAME\".\n",
    "Switched to workspace \"YOUR_NAME\".\n",
    "\n",
    "You're now on a new, empty workspace. Workspaces isolate their state,\n",
    "so if you run \"tecton plan\" Tecton will not see any existing state\n",
    "for this configuration.\n",
    "```\n",
    "\n",
    "> 💡**Tip:** For a complete list of workspace commands, simply run `tecton workspace -h`"
   ]
  },
  {
   "cell_type": "markdown",
   "metadata": {},
   "source": [
    "### ❓ Before we start -- Tecton Feature Repos\n",
    "\n",
    "In Tecton, [features are declared as code](https://docs.tecton.ai/examples/managing-feature-repos.html), in a **Tecton Feature Repository**. When your team uses Tecton, in practice you'll be collaborating on a code repository that defines all of the features that you expect Tecton to manage.\n",
    "\n",
    "That means before we build a new feature, we'll need to clone the code repository that your team will use to collaborate on features.  **In this tutorial, we'll clone a pre-populated feature repository to use as a starting point**"
   ]
  },
  {
   "cell_type": "markdown",
   "metadata": {},
   "source": [
    "### ✅ Clone the Sample Feature Repo\n",
    "\n",
    "The [sample feature repository for this demo can be found here](https://github.com/tecton-ai-ext/tecton-snowflake-feature-repo) -- if you already checked out this git repository to get a copy of this tutorial, you should already have the important files downloaded.  If not, clone the sample repository -- in the next steps you'll be editing files in that repo."
   ]
  },
  {
   "cell_type": "markdown",
   "metadata": {},
   "source": [
    "### ✅ Apply the Sample Feature Repo\n",
    "\n",
    "To register a local feature repository with Tecton, [you'll use the Tecton CLI.](https://docs.tecton.ai/examples/managing-feature-repos.html) Since you are working in a new Workspace, it does not currently have anything registered, so your first time adding features should be simple.\n",
    "\n",
    "Navigate to the feature repository in a command line, and run:\n",
    "```\n",
    "tecton apply\n",
    "```\n",
    "\n",
    "\n",
    "Take note of the workspace you are applying to to make sure it is correct. Then go ahead and apply the plan with `y`.\n",
    "\n",
    "> 💡 **Tip:** You can always compare your local Feature Repo to the remote Feature Registry by running `tecton plan`."
   ]
  },
  {
   "cell_type": "markdown",
   "metadata": {},
   "source": [
    "# Building your first feature\n",
    "\n",
    "On to the fun part, let's build a feature in Tecton.\n",
    "\n",
    "### Setup\n",
    "\n",
    "✅ Run the cell below, but make sure to replace the Snowflake connection parameters with your account info."
   ]
  },
  {
   "cell_type": "code",
   "execution_count": 2,
   "metadata": {},
   "outputs": [
    {
     "name": "stdout",
     "output_type": "stream",
     "text": [
      "Version: 0.4.0b16\n",
      "Git Commit: 7627b2f1c1a965a458440f3ce900a907671f2185\n",
      "Build Datetime: 2022-04-05T23:41:41\n"
     ]
    }
   ],
   "source": [
    "import tecton\n",
    "import pandas as pd\n",
    "import snowflake.connector\n",
    "from dotenv import dotenv_values\n",
    "from datetime import datetime, timedelta\n",
    "from pprint import pprint\n",
    "\n",
    "env = {**dotenv_values(\".env\")}\n",
    "\n",
    "# Quick helper function to query snowflake from a notebook\n",
    "# Make sure to replace with the appropriate connection details for your own account\n",
    "def query_snowflake(query):\n",
    "    conn = snowflake.connector.connect(\n",
    "        user=env['SNOWFLAKE_USER'],\n",
    "        password=env['SNOWFLAKE_PWD'],\n",
    "        account=env['SNOWFLAKE_ACCOUNT'],\n",
    "        warehouse=env['SNOWFLAKE_WAREHOUSE']\n",
    "    )\n",
    "    df = conn.cursor().execute(query).fetch_pandas_all()\n",
    "    return df\n",
    "\n",
    "tecton.version.summary()"
   ]
  },
  {
   "cell_type": "markdown",
   "metadata": {},
   "source": [
    "## Constructing a Feature\n",
    "Let's start by building a simple feature -- **the amount of the last transaction a user made**. First, let's run a query against the raw data in Snowflake (feel free to run this yourself in a Snowflake worksheet as well)."
   ]
  },
  {
   "cell_type": "code",
   "execution_count": 3,
   "metadata": {},
   "outputs": [
    {
     "name": "stderr",
     "output_type": "stream",
     "text": [
      "INFO - 04/06/2022 04:17:57 PM - snowflake.connector.connection - Snowflake Connector for Python Version: 2.7.6, Python Version: 3.8.13, Platform: macOS-12.2.1-x86_64-i386-64bit\n",
      "INFO - 04/06/2022 04:17:57 PM - snowflake.connector.connection - This connection is in OCSP Fail Open Mode. TLS Certificates would be checked for validity and revocation status. Any other Certificate Revocation related exceptions or OCSP Responder failures would be disregarded in favor of connectivity.\n",
      "INFO - 04/06/2022 04:17:57 PM - snowflake.connector.connection - Setting use_openssl_only mode to False\n",
      "INFO - 04/06/2022 04:17:58 PM - snowflake.connector.cursor - query: [SELECT USER_ID, AMT, TIMESTAMP FROM TECTON_DEMO_DATA.FRAUD_DEMO.TRANSACTIONS]\n",
      "INFO - 04/06/2022 04:17:59 PM - snowflake.connector.cursor - query execution done\n"
     ]
    },
    {
     "data": {
      "text/html": [
       "<div>\n",
       "<style scoped>\n",
       "    .dataframe tbody tr th:only-of-type {\n",
       "        vertical-align: middle;\n",
       "    }\n",
       "\n",
       "    .dataframe tbody tr th {\n",
       "        vertical-align: top;\n",
       "    }\n",
       "\n",
       "    .dataframe thead th {\n",
       "        text-align: right;\n",
       "    }\n",
       "</style>\n",
       "<table border=\"1\" class=\"dataframe\">\n",
       "  <thead>\n",
       "    <tr style=\"text-align: right;\">\n",
       "      <th></th>\n",
       "      <th>USER_ID</th>\n",
       "      <th>AMT</th>\n",
       "      <th>TIMESTAMP</th>\n",
       "    </tr>\n",
       "  </thead>\n",
       "  <tbody>\n",
       "    <tr>\n",
       "      <th>0</th>\n",
       "      <td>user_699668125818</td>\n",
       "      <td>47.98</td>\n",
       "      <td>2022-03-28 17:47:59.847095</td>\n",
       "    </tr>\n",
       "    <tr>\n",
       "      <th>1</th>\n",
       "      <td>user_457435146833</td>\n",
       "      <td>64.81</td>\n",
       "      <td>2022-03-28 17:48:01.431271</td>\n",
       "    </tr>\n",
       "    <tr>\n",
       "      <th>2</th>\n",
       "      <td>user_855115135598</td>\n",
       "      <td>15.69</td>\n",
       "      <td>2022-03-28 17:48:03.424751</td>\n",
       "    </tr>\n",
       "    <tr>\n",
       "      <th>3</th>\n",
       "      <td>user_934384811883</td>\n",
       "      <td>5.86</td>\n",
       "      <td>2022-03-28 17:48:05.245742</td>\n",
       "    </tr>\n",
       "    <tr>\n",
       "      <th>4</th>\n",
       "      <td>user_650387977076</td>\n",
       "      <td>122.57</td>\n",
       "      <td>2022-03-28 17:48:07.229087</td>\n",
       "    </tr>\n",
       "  </tbody>\n",
       "</table>\n",
       "</div>"
      ],
      "text/plain": [
       "             USER_ID     AMT                  TIMESTAMP\n",
       "0  user_699668125818   47.98 2022-03-28 17:47:59.847095\n",
       "1  user_457435146833   64.81 2022-03-28 17:48:01.431271\n",
       "2  user_855115135598   15.69 2022-03-28 17:48:03.424751\n",
       "3  user_934384811883    5.86 2022-03-28 17:48:05.245742\n",
       "4  user_650387977076  122.57 2022-03-28 17:48:07.229087"
      ]
     },
     "execution_count": 3,
     "metadata": {},
     "output_type": "execute_result"
    }
   ],
   "source": [
    "# Preview the data directly\n",
    "user_transaction_amount_query = '''\n",
    "SELECT \n",
    "    USER_ID,\n",
    "    AMT,\n",
    "    TIMESTAMP\n",
    "FROM \n",
    "    TECTON_DEMO_DATA.FRAUD_DEMO.TRANSACTIONS \n",
    "'''\n",
    "user_transaction_amount = query_snowflake(user_transaction_amount_query)\n",
    "user_transaction_amount.head(5)"
   ]
  },
  {
   "cell_type": "markdown",
   "metadata": {},
   "source": [
    "In Tecton, a feature has **three key components**:\n",
    "1. A set of keys that specify who or what the feature is describing (associated with an [Entity](https://docs.tecton.ai/overviews/framework/entities.html)). In the above example, the key is `USER_ID`, meaning this feature is describing a property about a user.\n",
    "2. One or more feature values -- the stuff thats going to eventually get passed into a model.  In the above example, the feature value is `AMT`, the amount of the transaction.\n",
    "3. A timestamp for the feature value. In the above example, the timestamp is `TIMESTAMP`, signifying that the feature is valid as of the moment of the transaction.\n"
   ]
  },
  {
   "cell_type": "markdown",
   "metadata": {},
   "source": [
    "## Defining a Feature to Tecton\n",
    "Moving from your Snowflake query to a Tecton feature is very simple, you'll simply wrap the SQL query in a Tecton decorator.  Here's what it looks like in practice:\n",
    "\n",
    "```python\n",
    "@batch_feature_view(\n",
    "    sources=[transactions],\n",
    "    entities=[user],\n",
    "    mode='snowflake_sql',\n",
    "    online=True,\n",
    "    batch_schedule='1d',\n",
    "    ttl='30days',\n",
    "    feature_start_time=datetime(2021, 5, 20),\n",
    "    description='Last user transaction amount (batch calculated)'\n",
    ")\n",
    "def user_last_transaction_amount(transactions):\n",
    "    return f'''\n",
    "        SELECT\n",
    "            USER_ID,\n",
    "            AMT,\n",
    "            TIMESTAMP\n",
    "        FROM\n",
    "            {transactions}\n",
    "        '''\n",
    "```\n",
    "\n",
    "✅  To add this feature to Tecton, simply add it to a new file in your Tecton Feature Repository. **For your convenience, you can find this feature implemented (and commented out) [in this file](feature_repo/features/batch_feature_views/user_last_transaction_amount.py)**.\n",
    "\n",
    "✅  Once you save your new feature, run `tecton apply` to publish it to Tecton.\n",
    "\n",
    "Currently this feature has online materialziation disabled. If the `online=True` flag is enabled when the Feature View is applied, Tecton will automatically backfill feature data to the online store from the specified `feature_start_time` until now, and then every `batch_schedule` interval going forward.\n",
    "\n",
    "As shown in the last tutorial, we can test run this new Feature view using the `.run()` function below."
   ]
  },
  {
   "cell_type": "code",
   "execution_count": null,
   "metadata": {},
   "outputs": [],
   "source": [
    "ws = tecton.get_workspace('YOUR_NAME') # replace with your workspace name\n",
    "fv = ws.get_feature_view('user_last_transaction_amount')\n",
    "\n",
    "start_time = datetime.utcnow()-timedelta(days=30)\n",
    "end_time = datetime.utcnow()\n",
    "\n",
    "fv.run(feature_start_time=start_time, feature_end_time=end_time).to_pandas().head()"
   ]
  },
  {
   "cell_type": "markdown",
   "metadata": {},
   "source": [
    "## Using Tecton time-windowed aggregations\n",
    "Sliding time-windowed aggregations are common ML features for event data, but defining them in a view can be error-prone and inefficient.\n",
    "\n",
    "Tecton provides built-in implementations of common time-windowed aggregations that simplify transformation logic and ensure correct feature value computation. Additionally, Tecton optimizes the compute and storage of these aggregations to maximize efficiency.\n",
    "\n",
    "For these reasons, we recommend using Tecton’s built-in aggregations whenever possible.\n",
    "\n",
    "Time-windowed aggregations can be specified in the Batch Feature View decorator using the `aggregations` and `aggregation_slide_period` parameters.\n",
    "\n",
    "Tecton will expect the provided SQL query to select the raw events (with timestamps) to be aggregated.\n",
    "\n",
    "```python\n",
    "@batch_feature_view(\n",
    "    sources=[transactions],\n",
    "    entities=[user],\n",
    "    mode='snowflake_sql',\n",
    "    online=True,\n",
    "    feature_start_time=datetime(2021, 5, 20),\n",
    "    description='Max transaction amounts for the user in various time windows',\n",
    "    aggregation_slide_period='1d',\n",
    "    aggregations=[FeatureAggregation(column='AMT', function='max', time_windows=['1d','3d','7d'])],\n",
    ")\n",
    "def user_max_transactions(transactions):\n",
    "    return f'''\n",
    "        SELECT\n",
    "            USER_ID,\n",
    "            AMT,\n",
    "            TIMESTAMP\n",
    "        FROM\n",
    "            {transactions}\n",
    "        '''\n",
    "```\n",
    "\n",
    "✅  To add this feature to Tecton, simply add it to a new file in your Tecton Feature Repository. **For your convenience, you can find this feature implemented (and commented out) [in this file](feature_repo/features/batch_feature_views/user_max_transactions.py)**.\n",
    "\n",
    "✅  Once you save your new feature, run `tecton apply` to publish it to Tecton.\n",
    "\n",
    "Now we can test this feature below."
   ]
  },
  {
   "cell_type": "code",
   "execution_count": null,
   "metadata": {},
   "outputs": [],
   "source": [
    "fv = ws.get_feature_view('user_max_transactions')\n",
    "\n",
    "start_time = datetime.utcnow()-timedelta(days=30)\n",
    "end_time = datetime.utcnow()\n",
    "\n",
    "fv.run(feature_start_time=start_time, feature_end_time=end_time).to_pandas().fillna(0).head()"
   ]
  },
  {
   "cell_type": "markdown",
   "metadata": {},
   "source": [
    "If you want to add these features to your feature set for your model, simply extend the list of Feature Views in your [Feature Service](feature_repo/feature_services/fraud_detection.py)."
   ]
  }
 ],
 "metadata": {
  "kernelspec": {
   "display_name": "tecton",
   "language": "python",
   "name": "tecton"
  },
  "language_info": {
   "codemirror_mode": {
    "name": "ipython",
    "version": 3
   },
   "file_extension": ".py",
   "mimetype": "text/x-python",
   "name": "python",
   "nbconvert_exporter": "python",
   "pygments_lexer": "ipython3",
   "version": "3.8.13"
  }
 },
 "nbformat": 4,
 "nbformat_minor": 4
}
