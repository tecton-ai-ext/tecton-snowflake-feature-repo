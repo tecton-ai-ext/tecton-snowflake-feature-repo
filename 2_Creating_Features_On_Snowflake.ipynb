{
 "cells": [
  {
   "cell_type": "markdown",
   "metadata": {},
   "source": [
    "# 2. Building Features with Tecton and Snowflake\n",
    "\n",
    "In this tutorial we'll cover how you can use Tecton and Snowflake to build features for machine learning.  We'll cover:\n",
    "* How to register features with Tecton\n",
    "* How features are written in Tecton\n",
    "* How to use Tecton Aggregations to do easy window aggregations"
   ]
  },
  {
   "cell_type": "markdown",
   "metadata": {},
   "source": [
    "### ❓ Before we start -- Tecton Workspaces\n",
    "\n",
    "[Workspaces](https://docs.tecton.ai/overviews/workspaces.html) are like a sandbox environment that can be used for experimenting with a Feature Repo without affecting the production environment. Changes made in one workspace will have no affect on other Workspaces.\n",
    "\n",
    "By default, new \"development\" workspaces do not have access to materialization and storage resources. Instead, transformations can be run ad-hoc in your Snowflake Warehouse. This means that the Tecton SDK builds a query that reads directly from your raw data tables, and executes it in your Snowflake Warehouse.\n",
    "\n",
    "This ad-hoc computation functionality can be used in any workspace and allows you to easily test features without needing to backfill and materialize data to the Feature Store.\n",
    "\n",
    "New workspaces with full materialization and storage resources can be created with the addition of the _--live_ flag during create time in the below CLI command. This can be useful for creating staging environments for testing features online before pushing changes to prod, or for creating isolation between different teams.\n",
    "\n",
    "**In this tutorial, we'll create a new workspace to ensure our changes don't effect other's workloads**"
   ]
  },
  {
   "cell_type": "markdown",
   "metadata": {},
   "source": [
    "### ✅ Create your own Tecton Workspace\n",
    "\n",
    "Workspaces are created using the Tecton CLI. Let's make one now:\n",
    "\n",
    "Create a workspace by running `tecton workspace create YOUR_NAME`.\n",
    "\n",
    "```\n",
    "$ tecton workspace create YOUR_NAME\n",
    "Created workspace \"YOUR_NAME\".\n",
    "Switched to workspace \"YOUR_NAME\".\n",
    "\n",
    "You're now on a new, empty workspace. Workspaces isolate their state,\n",
    "so if you run \"tecton plan\" Tecton will not see any existing state\n",
    "for this configuration.\n",
    "```\n",
    "\n",
    "> 💡**Tip:** For a complete list of workspace commands, simply run `tecton workspace -h`"
   ]
  },
  {
   "cell_type": "markdown",
   "metadata": {},
   "source": [
    "### ❓ Before we start -- Tecton Feature Repos\n",
    "\n",
    "In Tecton, [features are declared as code](https://docs.tecton.ai/examples/managing-feature-repos.html), in a **Tecton Feature Repository**. When your team uses Tecton, in practice you'll be collaborating on a code repository that defines all of the features that you expect Tecton to manage.\n",
    "\n",
    "That means before we build a new feature, we'll need to clone the code repository that your team will use to collaborate on features.  **In this tutorial, we'll clone a pre-populated feature repository to use as a starting point**"
   ]
  },
  {
   "cell_type": "markdown",
   "metadata": {},
   "source": [
    "### ✅ Clone the Sample Feature Repo\n",
    "\n",
    "The [sample feature repository for this demo can be found here](https://github.com/tecton-ai-ext/tecton-snowflake-feature-repo) -- if you already checked out this git repository to get a copy of this tutorial, you should already have the important files downloaded.  If not, clone the sample repository -- in the next steps you'll be editing files in that repo."
   ]
  },
  {
   "cell_type": "markdown",
   "metadata": {},
   "source": [
    "### ✅ Apply the Sample Feature Repo\n",
    "\n",
    "To register a local feature repository with Tecton, [you'll use the Tecton CLI.](https://docs.tecton.ai/examples/managing-feature-repos.html) Since you are working in a new Workspace, it does not currently have anything registered, so your first time adding features should be simple.\n",
    "\n",
    "Navigate to the feature repository's directory in the command line:\n",
    "```\n",
    "cd feature_repo\n",
    "```\n",
    "\n",
    "\n",
    "Then run the following command to register your feature definitions with Tecton:\n",
    "```\n",
    "tecton apply\n",
    "```\n",
    "\n",
    "\n",
    "Take note of the workspace you are applying to to make sure it is correct. Then go ahead and apply the plan with `y`.\n",
    "\n",
    "> 💡 **Tip:** You can always compare your local Feature Repo to the remote Feature Registry before applying it by running `tecton plan`."
   ]
  },
  {
   "cell_type": "markdown",
   "metadata": {},
   "source": [
    "# Building your first feature\n",
    "\n",
    "On to the fun part, let's build a feature in Tecton.\n",
    "\n",
    "### Setup\n",
    "\n",
    "✅ Run the cell below."
   ]
  },
  {
   "cell_type": "code",
   "execution_count": 3,
   "metadata": {},
   "outputs": [
    {
     "name": "stdout",
     "output_type": "stream",
     "text": [
      "Version: 0.4.0b17\n",
      "Git Commit: 7234af0db10822ec3627702dafeb462c6e8d15b8\n",
      "Build Datetime: 2022-04-07T19:05:56\n"
     ]
    }
   ],
   "source": [
    "import tecton\n",
    "import pandas as pd\n",
    "import snowflake.connector\n",
    "from datetime import datetime, timedelta\n",
    "from pprint import pprint\n",
    "\n",
    "# Quick helper function to query snowflake from a notebook\n",
    "# Make sure to replace with the appropriate connection details for your own account\n",
    "def query_snowflake(query):\n",
    "    conn = snowflake.connector.connect(\n",
    "        user=tecton.conf.get_or_raise('SNOWFLAKE_USER'),\n",
    "        password=tecton.conf.get_or_raise('SNOWFLAKE_PASSWORD'),\n",
    "        account=tecton.conf.get_or_raise('SNOWFLAKE_ACCOUNT_IDENTIFIER'),\n",
    "        warehouse=tecton.conf.get_or_raise('SNOWFLAKE_WAREHOUSE')\n",
    "    )\n",
    "    df = conn.cursor().execute(query).fetch_pandas_all()\n",
    "    return df\n",
    "\n",
    "ws = tecton.get_workspace('prod')\n",
    "tecton.version.summary()"
   ]
  },
  {
   "cell_type": "markdown",
   "metadata": {},
   "source": [
    "## Constructing a Feature\n",
    "Let's start by building a simple feature -- **the amount of the last transaction a user made**. First, let's run a query against the raw data in Snowflake (feel free to run this yourself in a Snowflake worksheet as well)."
   ]
  },
  {
   "cell_type": "code",
   "execution_count": 4,
   "metadata": {},
   "outputs": [
    {
     "name": "stderr",
     "output_type": "stream",
     "text": [
      "INFO - 04/08/2022 02:27:08 PM - snowflake.connector.connection - Snowflake Connector for Python Version: 2.7.6, Python Version: 3.8.12, Platform: macOS-12.1-x86_64-i386-64bit\n",
      "INFO - 04/08/2022 02:27:08 PM - snowflake.connector.connection - This connection is in OCSP Fail Open Mode. TLS Certificates would be checked for validity and revocation status. Any other Certificate Revocation related exceptions or OCSP Responder failures would be disregarded in favor of connectivity.\n",
      "INFO - 04/08/2022 02:27:08 PM - snowflake.connector.connection - Setting use_openssl_only mode to False\n",
      "INFO - 04/08/2022 02:27:09 PM - snowflake.connector.cursor - query: [SELECT USER_ID, AMT, TIMESTAMP FROM TECTON_DEMO_DATA.FRAUD_DEMO.TRANSACTIONS]\n",
      "INFO - 04/08/2022 02:27:11 PM - snowflake.connector.cursor - query execution done\n"
     ]
    },
    {
     "data": {
      "text/html": [
       "<div>\n",
       "<style scoped>\n",
       "    .dataframe tbody tr th:only-of-type {\n",
       "        vertical-align: middle;\n",
       "    }\n",
       "\n",
       "    .dataframe tbody tr th {\n",
       "        vertical-align: top;\n",
       "    }\n",
       "\n",
       "    .dataframe thead th {\n",
       "        text-align: right;\n",
       "    }\n",
       "</style>\n",
       "<table border=\"1\" class=\"dataframe\">\n",
       "  <thead>\n",
       "    <tr style=\"text-align: right;\">\n",
       "      <th></th>\n",
       "      <th>USER_ID</th>\n",
       "      <th>AMT</th>\n",
       "      <th>TIMESTAMP</th>\n",
       "    </tr>\n",
       "  </thead>\n",
       "  <tbody>\n",
       "    <tr>\n",
       "      <th>0</th>\n",
       "      <td>user_939970169861</td>\n",
       "      <td>118.74</td>\n",
       "      <td>2022-04-08 08:58:32.465139</td>\n",
       "    </tr>\n",
       "    <tr>\n",
       "      <th>1</th>\n",
       "      <td>user_930691958107</td>\n",
       "      <td>113.09</td>\n",
       "      <td>2022-04-08 08:58:35.701032</td>\n",
       "    </tr>\n",
       "    <tr>\n",
       "      <th>2</th>\n",
       "      <td>user_459842889956</td>\n",
       "      <td>3.22</td>\n",
       "      <td>2022-04-08 08:58:38.125919</td>\n",
       "    </tr>\n",
       "    <tr>\n",
       "      <th>3</th>\n",
       "      <td>user_205125746682</td>\n",
       "      <td>120.96</td>\n",
       "      <td>2022-04-08 08:58:39.823139</td>\n",
       "    </tr>\n",
       "    <tr>\n",
       "      <th>4</th>\n",
       "      <td>user_461615966685</td>\n",
       "      <td>60.21</td>\n",
       "      <td>2022-04-08 08:58:41.716688</td>\n",
       "    </tr>\n",
       "  </tbody>\n",
       "</table>\n",
       "</div>"
      ],
      "text/plain": [
       "             USER_ID     AMT                  TIMESTAMP\n",
       "0  user_939970169861  118.74 2022-04-08 08:58:32.465139\n",
       "1  user_930691958107  113.09 2022-04-08 08:58:35.701032\n",
       "2  user_459842889956    3.22 2022-04-08 08:58:38.125919\n",
       "3  user_205125746682  120.96 2022-04-08 08:58:39.823139\n",
       "4  user_461615966685   60.21 2022-04-08 08:58:41.716688"
      ]
     },
     "execution_count": 4,
     "metadata": {},
     "output_type": "execute_result"
    }
   ],
   "source": [
    "# Preview the data directly\n",
    "user_transaction_amount_query = '''\n",
    "SELECT \n",
    "    USER_ID,\n",
    "    AMT,\n",
    "    TIMESTAMP\n",
    "FROM \n",
    "    TECTON_DEMO_DATA.FRAUD_DEMO.TRANSACTIONS \n",
    "'''\n",
    "user_transaction_amount = query_snowflake(user_transaction_amount_query)\n",
    "user_transaction_amount.head(5)"
   ]
  },
  {
   "cell_type": "markdown",
   "metadata": {},
   "source": [
    "In Tecton, a feature has **three key components**:\n",
    "1. A set of keys that specify who or what the feature is describing (associated with an [Entity](https://docs.tecton.ai/overviews/framework/entities.html)). In the above example, the key is `USER_ID`, meaning this feature is describing a property about a user.\n",
    "2. One or more feature values -- the stuff that's going to eventually get passed into a model.  In the above example, the feature is `AMT`, the amount of the transaction.\n",
    "3. A timestamp for the feature value. In the above example, the timestamp is `TIMESTAMP`, signifying that the feature is valid as of the moment of the transaction.\n"
   ]
  },
  {
   "cell_type": "markdown",
   "metadata": {},
   "source": [
    "## Defining a Feature to Tecton\n",
    "Moving from your Snowflake query to a Tecton feature is very simple, you'll simply wrap the SQL query in a Tecton python decorator.  Here's what it looks like in practice:\n",
    "\n",
    "```python\n",
    "@batch_feature_view(\n",
    "    sources=[transactions],\n",
    "    entities=[user],\n",
    "    mode='snowflake_sql',\n",
    "    online=True,\n",
    "    batch_schedule='1d',\n",
    "    ttl='30days',\n",
    "    feature_start_time=datetime(2021, 5, 20),\n",
    "    description='Last user transaction amount (batch calculated)'\n",
    ")\n",
    "def user_last_transaction_amount(transactions):\n",
    "    return f'''\n",
    "        SELECT\n",
    "            USER_ID,\n",
    "            AMT,\n",
    "            TIMESTAMP\n",
    "        FROM\n",
    "            {transactions}\n",
    "        '''\n",
    "```\n",
    "\n",
    "✅  To add this feature to Tecton, simply add it to a new file in your Tecton Feature Repository. **For your convenience, you can find this feature implemented (and commented out) [in this file](feature_repo/features/batch_feature_views/user_last_transaction_amount.py)**.\n",
    "\n",
    "✅  Once you save your new feature, run `tecton apply` to publish it to Tecton.\n",
    "\n",
    "Currently this feature has online materialization disabled. If the `online=True` flag is enabled when the Feature View is applied, Tecton will automatically backfill feature data to the online store from the specified `feature_start_time` until `now` (the time at which you apply the repository). Afterwards, the feature store gets refreshed at every `batch_schedule` interval going forward.\n",
    "\n",
    "As shown in the last tutorial, we can test run this new Feature view using the `.run()` function below."
   ]
  },
  {
   "cell_type": "code",
   "execution_count": 5,
   "metadata": {},
   "outputs": [
    {
     "data": {
      "text/html": [
       "<div>\n",
       "<style scoped>\n",
       "    .dataframe tbody tr th:only-of-type {\n",
       "        vertical-align: middle;\n",
       "    }\n",
       "\n",
       "    .dataframe tbody tr th {\n",
       "        vertical-align: top;\n",
       "    }\n",
       "\n",
       "    .dataframe thead th {\n",
       "        text-align: right;\n",
       "    }\n",
       "</style>\n",
       "<table border=\"1\" class=\"dataframe\">\n",
       "  <thead>\n",
       "    <tr style=\"text-align: right;\">\n",
       "      <th></th>\n",
       "      <th>USER_ID</th>\n",
       "      <th>AMT</th>\n",
       "      <th>TIMESTAMP</th>\n",
       "    </tr>\n",
       "  </thead>\n",
       "  <tbody>\n",
       "    <tr>\n",
       "      <th>0</th>\n",
       "      <td>user_469998441571</td>\n",
       "      <td>10.36</td>\n",
       "      <td>2022-04-08 08:33:25.530681</td>\n",
       "    </tr>\n",
       "    <tr>\n",
       "      <th>1</th>\n",
       "      <td>user_609904782486</td>\n",
       "      <td>81.66</td>\n",
       "      <td>2022-04-08 08:33:27.775662</td>\n",
       "    </tr>\n",
       "    <tr>\n",
       "      <th>2</th>\n",
       "      <td>user_656020174537</td>\n",
       "      <td>66.92</td>\n",
       "      <td>2022-04-08 08:33:30.123283</td>\n",
       "    </tr>\n",
       "    <tr>\n",
       "      <th>3</th>\n",
       "      <td>user_402539845901</td>\n",
       "      <td>5.01</td>\n",
       "      <td>2022-04-08 08:33:31.784309</td>\n",
       "    </tr>\n",
       "    <tr>\n",
       "      <th>4</th>\n",
       "      <td>user_574612776685</td>\n",
       "      <td>30.93</td>\n",
       "      <td>2022-04-08 08:33:37.061860</td>\n",
       "    </tr>\n",
       "  </tbody>\n",
       "</table>\n",
       "</div>"
      ],
      "text/plain": [
       "             USER_ID    AMT                  TIMESTAMP\n",
       "0  user_469998441571  10.36 2022-04-08 08:33:25.530681\n",
       "1  user_609904782486  81.66 2022-04-08 08:33:27.775662\n",
       "2  user_656020174537  66.92 2022-04-08 08:33:30.123283\n",
       "3  user_402539845901   5.01 2022-04-08 08:33:31.784309\n",
       "4  user_574612776685  30.93 2022-04-08 08:33:37.061860"
      ]
     },
     "execution_count": 5,
     "metadata": {},
     "output_type": "execute_result"
    }
   ],
   "source": [
    "ws = tecton.get_workspace('YOUR_NAME') # replace with your workspace name\n",
    "fv = ws.get_feature_view('user_last_transaction_amount')\n",
    "\n",
    "start_time = datetime.utcnow()-timedelta(days=30)\n",
    "end_time = datetime.utcnow()\n",
    "\n",
    "fv.run(feature_start_time=start_time, feature_end_time=end_time).to_pandas().head()"
   ]
  },
  {
   "cell_type": "markdown",
   "metadata": {},
   "source": [
    "## Using Tecton time-windowed aggregations\n",
    "Sliding time-windowed aggregations are common ML features for event data, but defining them in a view can be error-prone and inefficient.\n",
    "\n",
    "Tecton provides built-in implementations of common time-windowed aggregations that simplify transformation logic and ensure correct feature value computation. Additionally, Tecton optimizes the compute and storage of these aggregations to maximize efficiency.\n",
    "\n",
    "For these reasons, we recommend using Tecton’s built-in aggregations whenever possible.\n",
    "\n",
    "Time-windowed aggregations can be specified in the Batch Feature View decorator using the `aggregations` and `aggregation_slide_period` parameters.\n",
    "\n",
    "Tecton expects the provided SQL query to select the raw events (with timestamps) to be aggregated.\n",
    "\n",
    "```python\n",
    "@batch_feature_view(\n",
    "    sources=[transactions],\n",
    "    entities=[user],\n",
    "    mode='snowflake_sql',\n",
    "    online=True,\n",
    "    feature_start_time=datetime(2021, 5, 20),\n",
    "    description='Max transaction amounts for the user in various time windows',\n",
    "    aggregation_slide_period='1d',\n",
    "    aggregations=[FeatureAggregation(column='AMT', function='max', time_windows=['1d','3d','7d'])],\n",
    ")\n",
    "def user_max_transactions(transactions):\n",
    "    return f'''\n",
    "        SELECT\n",
    "            USER_ID,\n",
    "            AMT,\n",
    "            TIMESTAMP\n",
    "        FROM\n",
    "            {transactions}\n",
    "        '''\n",
    "```\n",
    "\n",
    "✅  To add this feature to Tecton, simply add it to a new file in your Tecton Feature Repository. **For your convenience, you can find this feature implemented (and commented out) [in this file](feature_repo/features/batch_feature_views/user_max_transactions.py)**.\n",
    "\n",
    "✅  Once you save your new feature, run `tecton apply` to publish it to Tecton.\n",
    "\n",
    "Now we can test this feature below."
   ]
  },
  {
   "cell_type": "code",
   "execution_count": 7,
   "metadata": {},
   "outputs": [
    {
     "data": {
      "text/html": [
       "<div>\n",
       "<style scoped>\n",
       "    .dataframe tbody tr th:only-of-type {\n",
       "        vertical-align: middle;\n",
       "    }\n",
       "\n",
       "    .dataframe tbody tr th {\n",
       "        vertical-align: top;\n",
       "    }\n",
       "\n",
       "    .dataframe thead th {\n",
       "        text-align: right;\n",
       "    }\n",
       "</style>\n",
       "<table border=\"1\" class=\"dataframe\">\n",
       "  <thead>\n",
       "    <tr style=\"text-align: right;\">\n",
       "      <th></th>\n",
       "      <th>USER_ID</th>\n",
       "      <th>TIMESTAMP</th>\n",
       "      <th>AMT_MAX_1D_1D</th>\n",
       "      <th>AMT_MAX_30D_1D</th>\n",
       "      <th>AMT_MAX_180D_1D</th>\n",
       "    </tr>\n",
       "  </thead>\n",
       "  <tbody>\n",
       "    <tr>\n",
       "      <th>0</th>\n",
       "      <td>user_912293302206</td>\n",
       "      <td>1649376000000000000</td>\n",
       "      <td>0.0</td>\n",
       "      <td>0.0</td>\n",
       "      <td>0.0</td>\n",
       "    </tr>\n",
       "    <tr>\n",
       "      <th>1</th>\n",
       "      <td>user_459842889956</td>\n",
       "      <td>1649376000000000000</td>\n",
       "      <td>0.0</td>\n",
       "      <td>0.0</td>\n",
       "      <td>0.0</td>\n",
       "    </tr>\n",
       "    <tr>\n",
       "      <th>2</th>\n",
       "      <td>user_600003278485</td>\n",
       "      <td>1649376000000000000</td>\n",
       "      <td>0.0</td>\n",
       "      <td>0.0</td>\n",
       "      <td>0.0</td>\n",
       "    </tr>\n",
       "    <tr>\n",
       "      <th>3</th>\n",
       "      <td>user_504831693</td>\n",
       "      <td>1649462400000000000</td>\n",
       "      <td>0.0</td>\n",
       "      <td>0.0</td>\n",
       "      <td>0.0</td>\n",
       "    </tr>\n",
       "    <tr>\n",
       "      <th>4</th>\n",
       "      <td>user_802310592834</td>\n",
       "      <td>1649462400000000000</td>\n",
       "      <td>0.0</td>\n",
       "      <td>0.0</td>\n",
       "      <td>0.0</td>\n",
       "    </tr>\n",
       "  </tbody>\n",
       "</table>\n",
       "</div>"
      ],
      "text/plain": [
       "             USER_ID            TIMESTAMP  AMT_MAX_1D_1D  AMT_MAX_30D_1D  \\\n",
       "0  user_912293302206  1649376000000000000            0.0             0.0   \n",
       "1  user_459842889956  1649376000000000000            0.0             0.0   \n",
       "2  user_600003278485  1649376000000000000            0.0             0.0   \n",
       "3     user_504831693  1649462400000000000            0.0             0.0   \n",
       "4  user_802310592834  1649462400000000000            0.0             0.0   \n",
       "\n",
       "   AMT_MAX_180D_1D  \n",
       "0              0.0  \n",
       "1              0.0  \n",
       "2              0.0  \n",
       "3              0.0  \n",
       "4              0.0  "
      ]
     },
     "execution_count": 7,
     "metadata": {},
     "output_type": "execute_result"
    }
   ],
   "source": [
    "fv = ws.get_feature_view('user_max_transactions')\n",
    "\n",
    "start_time = datetime.utcnow()-timedelta(days=30)\n",
    "end_time = datetime.utcnow()\n",
    "\n",
    "fv.run(feature_start_time=start_time, feature_end_time=end_time).to_pandas().fillna(0).head()"
   ]
  },
  {
   "cell_type": "markdown",
   "metadata": {},
   "source": [
    "If you want to add these features to your feature set for your model, simply extend the list of Feature Views in your [Feature Service](feature_repo/feature_services/fraud_detection.py)."
   ]
  }
 ],
 "metadata": {
  "kernelspec": {
   "display_name": "Python 3 (ipykernel)",
   "language": "python",
   "name": "python3"
  },
  "language_info": {
   "codemirror_mode": {
    "name": "ipython",
    "version": 3
   },
   "file_extension": ".py",
   "mimetype": "text/x-python",
   "name": "python",
   "nbconvert_exporter": "python",
   "pygments_lexer": "ipython3",
   "version": "3.8.12"
  }
 },
 "nbformat": 4,
 "nbformat_minor": 4
}
